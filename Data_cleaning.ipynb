{
 "cells": [
  {
   "cell_type": "markdown",
   "id": "079d8a49-e73b-47fb-85ae-0f8c7dc9dc93",
   "metadata": {},
   "source": [
    "# Cleaning the first dataset (emigration_and_imigration.csv)"
   ]
  },
  {
   "cell_type": "code",
   "execution_count": 1,
   "id": "3d189303",
   "metadata": {},
   "outputs": [],
   "source": [
    "# Importing the libraries we will use during the cleaning:\n",
    "import pandas as pd\n",
    "import numpy as np\n",
    "import json"
   ]
  },
  {
   "cell_type": "code",
   "execution_count": 2,
   "id": "0d55c7a0-4d08-4980-a909-26f28126ffc9",
   "metadata": {},
   "outputs": [
    {
     "data": {
      "text/html": [
       "<div>\n",
       "<style scoped>\n",
       "    .dataframe tbody tr th:only-of-type {\n",
       "        vertical-align: middle;\n",
       "    }\n",
       "\n",
       "    .dataframe tbody tr th {\n",
       "        vertical-align: top;\n",
       "    }\n",
       "\n",
       "    .dataframe thead th {\n",
       "        text-align: right;\n",
       "    }\n",
       "</style>\n",
       "<table border=\"1\" class=\"dataframe\">\n",
       "  <thead>\n",
       "    <tr style=\"text-align: right;\">\n",
       "      <th></th>\n",
       "      <th>ï»¿STATISTIC</th>\n",
       "      <th>STATISTIC Label</th>\n",
       "      <th>TLIST(A1)</th>\n",
       "      <th>Year</th>\n",
       "      <th>C02199V02655</th>\n",
       "      <th>Sex</th>\n",
       "      <th>C02537V03072</th>\n",
       "      <th>Nationality</th>\n",
       "      <th>UNIT</th>\n",
       "      <th>VALUE</th>\n",
       "    </tr>\n",
       "  </thead>\n",
       "  <tbody>\n",
       "    <tr>\n",
       "      <th>44</th>\n",
       "      <td>PEA17</td>\n",
       "      <td>Estimated Immigration (Persons in April)</td>\n",
       "      <td>2008</td>\n",
       "      <td>2008</td>\n",
       "      <td>1</td>\n",
       "      <td>Male</td>\n",
       "      <td>E1420XIE</td>\n",
       "      <td>EU14 excl Irl (countries in the EU pre 2004 ex...</td>\n",
       "      <td>Thousand</td>\n",
       "      <td>3.9</td>\n",
       "    </tr>\n",
       "    <tr>\n",
       "      <th>226</th>\n",
       "      <td>PEA17</td>\n",
       "      <td>Estimated Immigration (Persons in April)</td>\n",
       "      <td>2018</td>\n",
       "      <td>2018</td>\n",
       "      <td>1</td>\n",
       "      <td>Male</td>\n",
       "      <td>ON17</td>\n",
       "      <td>Other nationalities(17)</td>\n",
       "      <td>Thousand</td>\n",
       "      <td>15.7</td>\n",
       "    </tr>\n",
       "    <tr>\n",
       "      <th>210</th>\n",
       "      <td>PEA17</td>\n",
       "      <td>Estimated Immigration (Persons in April)</td>\n",
       "      <td>2017</td>\n",
       "      <td>2017</td>\n",
       "      <td>2</td>\n",
       "      <td>Female</td>\n",
       "      <td>IE</td>\n",
       "      <td>Irish</td>\n",
       "      <td>Thousand</td>\n",
       "      <td>13.3</td>\n",
       "    </tr>\n",
       "  </tbody>\n",
       "</table>\n",
       "</div>"
      ],
      "text/plain": [
       "    ï»¿STATISTIC                           STATISTIC Label  TLIST(A1)  Year  \\\n",
       "44         PEA17  Estimated Immigration (Persons in April)       2008  2008   \n",
       "226        PEA17  Estimated Immigration (Persons in April)       2018  2018   \n",
       "210        PEA17  Estimated Immigration (Persons in April)       2017  2017   \n",
       "\n",
       "    C02199V02655     Sex C02537V03072  \\\n",
       "44             1    Male     E1420XIE   \n",
       "226            1    Male         ON17   \n",
       "210            2  Female           IE   \n",
       "\n",
       "                                           Nationality      UNIT  VALUE  \n",
       "44   EU14 excl Irl (countries in the EU pre 2004 ex...  Thousand    3.9  \n",
       "226                            Other nationalities(17)  Thousand   15.7  \n",
       "210                                              Irish  Thousand   13.3  "
      ]
     },
     "execution_count": 2,
     "metadata": {},
     "output_type": "execute_result"
    }
   ],
   "source": [
    "# Loading the CSV file into a DataFrame using pandas library and taking a sample to check our table:\n",
    "emi_imi = pd.read_csv('Datasets/emigration_and_imigration.csv', encoding='latin-1')\n",
    "emi_imi.sample(3)"
   ]
  },
  {
   "cell_type": "code",
   "execution_count": 3,
   "id": "e62bba9e-a635-47e2-87c4-c6d7c3f694f9",
   "metadata": {},
   "outputs": [
    {
     "name": "stdout",
     "output_type": "stream",
     "text": [
      "We have a total of 6120 values in this dataset.\n"
     ]
    }
   ],
   "source": [
    "# Now we will check dataset shape and confirm we have the 1000 values requested for this project:\n",
    "emi_imi_shape = emi_imi.shape\n",
    "result = emi_imi_shape[0] * emi_imi_shape[1]\n",
    "print(f'We have a total of {result} values in this dataset.')"
   ]
  },
  {
   "cell_type": "code",
   "execution_count": 4,
   "id": "2c0205d6-b79f-4582-abfc-15ac11a542c5",
   "metadata": {},
   "outputs": [
    {
     "name": "stdout",
     "output_type": "stream",
     "text": [
      "<class 'pandas.core.frame.DataFrame'>\n",
      "RangeIndex: 612 entries, 0 to 611\n",
      "Data columns (total 10 columns):\n",
      " #   Column           Non-Null Count  Dtype  \n",
      "---  ------           --------------  -----  \n",
      " 0   ï»¿STATISTIC     612 non-null    object \n",
      " 1   STATISTIC Label  612 non-null    object \n",
      " 2   TLIST(A1)        612 non-null    int64  \n",
      " 3   Year             612 non-null    int64  \n",
      " 4   C02199V02655     612 non-null    object \n",
      " 5   Sex              612 non-null    object \n",
      " 6   C02537V03072     612 non-null    object \n",
      " 7   Nationality      612 non-null    object \n",
      " 8   UNIT             612 non-null    object \n",
      " 9   VALUE            612 non-null    float64\n",
      "dtypes: float64(1), int64(2), object(7)\n",
      "memory usage: 47.9+ KB\n"
     ]
    }
   ],
   "source": [
    "# Now we want to know if our dataset is pulling the right variables datatypes:\n",
    "emi_imi.info()"
   ]
  },
  {
   "cell_type": "code",
   "execution_count": 5,
   "id": "ee705a73-595b-40f6-9073-32e474fa7c5c",
   "metadata": {},
   "outputs": [
    {
     "data": {
      "text/plain": [
       "0"
      ]
     },
     "execution_count": 5,
     "metadata": {},
     "output_type": "execute_result"
    }
   ],
   "source": [
    "# Our datatype is correct, now we will check for duplicated values:\n",
    "emi_imi.duplicated().sum()"
   ]
  },
  {
   "cell_type": "code",
   "execution_count": 6,
   "id": "e8f6e9ca-8bfc-41bd-ace7-96086673990c",
   "metadata": {},
   "outputs": [
    {
     "data": {
      "text/plain": [
       "ï»¿STATISTIC       0\n",
       "STATISTIC Label    0\n",
       "TLIST(A1)          0\n",
       "Year               0\n",
       "C02199V02655       0\n",
       "Sex                0\n",
       "C02537V03072       0\n",
       "Nationality        0\n",
       "UNIT               0\n",
       "VALUE              0\n",
       "dtype: int64"
      ]
     },
     "execution_count": 6,
     "metadata": {},
     "output_type": "execute_result"
    }
   ],
   "source": [
    "# No duplicate was found, our final check is for missing values in the dataset:\n",
    "emi_imi.isnull().sum()"
   ]
  },
  {
   "cell_type": "code",
   "execution_count": 7,
   "id": "3d660356-f92e-4d5d-b975-1885f9d865bb",
   "metadata": {},
   "outputs": [
    {
     "name": "stdout",
     "output_type": "stream",
     "text": [
      "Index(['ï»¿STATISTIC', 'STATISTIC Label', 'TLIST(A1)', 'Year', 'C02199V02655',\n",
      "       'Sex', 'C02537V03072', 'Nationality', 'UNIT', 'VALUE'],\n",
      "      dtype='object')\n"
     ]
    }
   ],
   "source": [
    "# Our data is clean, but the column names seem confusing:\n",
    "print(emi_imi.columns)"
   ]
  },
  {
   "cell_type": "code",
   "execution_count": 8,
   "id": "4e3db268-3d4b-46e3-9346-7ee2c87c73c4",
   "metadata": {},
   "outputs": [
    {
     "name": "stdout",
     "output_type": "stream",
     "text": [
      "Index(['File Name', 'File Label', 'Year Clone', 'Year', 'Gender No', 'Gender',\n",
      "       'Nationality Key', 'Nationality', 'Coin Unit', 'Value'],\n",
      "      dtype='object')\n"
     ]
    }
   ],
   "source": [
    "# Since the column names are not userfriendly, we will rename it:\n",
    "new_names = {'ï»¿STATISTIC': 'File Name', 'STATISTIC Label': 'File Label', 'TLIST(A1)': 'Year Clone', \n",
    "             'Year': 'Year', 'C02199V02655': 'Gender No', 'Sex': 'Gender', 'C02537V03072': 'Nationality Key',\n",
    "             'Nationality': 'Nationality', 'UNIT': 'Coin Unit', 'VALUE': 'Value'}\n",
    "emi_imi = emi_imi.rename(columns=new_names)\n",
    "\n",
    "# Printing the new column names to check if it is as we want:\n",
    "print(emi_imi.columns)"
   ]
  },
  {
   "cell_type": "code",
   "execution_count": 9,
   "id": "78fc1e94-8f1b-415d-9544-018ecce39d68",
   "metadata": {},
   "outputs": [],
   "source": [
    "# Filtering our dataset to match with the range in years of the other datasets:\n",
    "filter_emi_imi = emi_imi[~emi_imi['Year'].isin(range(2006, 2020))]"
   ]
  },
  {
   "cell_type": "code",
   "execution_count": 10,
   "id": "93f4d020-6039-43ea-8353-8acde916f332",
   "metadata": {},
   "outputs": [
    {
     "name": "stdout",
     "output_type": "stream",
     "text": [
      "We have a total of 1080 values in this dataset.\n"
     ]
    }
   ],
   "source": [
    "# Now we will check dataset shape and confirm we have the 1000 values after filtering:\n",
    "emi_imi_shape = filter_emi_imi.shape\n",
    "result = emi_imi_shape[0] * emi_imi_shape[1]\n",
    "print(f'We have a total of {result} values in this dataset.')"
   ]
  },
  {
   "cell_type": "code",
   "execution_count": 11,
   "id": "1845a08b-c936-4241-a987-66fecccdf92c",
   "metadata": {},
   "outputs": [],
   "source": [
    "# After changing the dataset, we need to save it to a new CSV file\n",
    "filter_emi_imi.to_csv('Datasets/new_emigration_and_imigration.csv', index=False)"
   ]
  },
  {
   "cell_type": "markdown",
   "id": "e10bce94-9959-4a7d-97a8-6f6227fd08d1",
   "metadata": {},
   "source": [
    "# Cleaning the second dataset (rent.json)"
   ]
  },
  {
   "cell_type": "code",
   "execution_count": 12,
   "id": "3740089f-2745-4482-809d-9ed8ecfbd6c7",
   "metadata": {},
   "outputs": [
    {
     "name": "stdout",
     "output_type": "stream",
     "text": [
      "           A           B              C                     D     E        F\n",
      "202598  2018  1 to 3 bed      Apartment  Temple Bar, Dublin 2  Euro  1704.05\n",
      "97941   2013     One bed  Terrace house      Woodquay, Galway  Euro     None\n",
      "138551  2015     Two bed      Apartment      Sallins, Kildare  Euro   855.81\n"
     ]
    }
   ],
   "source": [
    "# Loading the JSON file into a DataFrame using pandas library and taking a sample to check our file:\n",
    "rent_file = pd.read_json('Datasets/rent.json')\n",
    "print(rent_file.sample(3))"
   ]
  },
  {
   "cell_type": "code",
   "execution_count": 13,
   "id": "e41fa4dd-d7cd-4762-9d4b-9ab7e7ee0eb6",
   "metadata": {},
   "outputs": [
    {
     "name": "stdout",
     "output_type": "stream",
     "text": [
      "We have a total of 1573494 values in this dataset.\n"
     ]
    }
   ],
   "source": [
    "# Now we will check dataset shape and confirm we have the 1000 values requested for this project:\n",
    "rent_file_shape = rent_file.shape\n",
    "result2 = rent_file_shape[0] * rent_file_shape[1]\n",
    "print(f'We have a total of {result2} values in this dataset.')"
   ]
  },
  {
   "cell_type": "code",
   "execution_count": 14,
   "id": "cb01ef9e-ad54-421b-b483-e46892310b4f",
   "metadata": {},
   "outputs": [
    {
     "data": {
      "text/plain": [
       "0"
      ]
     },
     "execution_count": 14,
     "metadata": {},
     "output_type": "execute_result"
    }
   ],
   "source": [
    "# We want to check if our dataset has any duplicates values:\n",
    "rent_file.duplicated().sum()"
   ]
  },
  {
   "cell_type": "code",
   "execution_count": 15,
   "id": "55ad3101-a688-418c-a92c-4090273c940e",
   "metadata": {},
   "outputs": [
    {
     "data": {
      "text/plain": [
       "A         0\n",
       "B         0\n",
       "C         0\n",
       "D         0\n",
       "E         0\n",
       "F    167444\n",
       "dtype: int64"
      ]
     },
     "execution_count": 15,
     "metadata": {},
     "output_type": "execute_result"
    }
   ],
   "source": [
    "# No duplicate was found, now we will check is for missing values in the dataset:\n",
    "rent_file.isnull().sum()"
   ]
  },
  {
   "cell_type": "code",
   "execution_count": 16,
   "id": "222799f0-817f-40b3-ad69-577a1d40452c",
   "metadata": {},
   "outputs": [],
   "source": [
    "# We got 167444 null values in column F, we need to remove those rows:\n",
    "rent_file.dropna(subset=['F'], inplace=True)"
   ]
  },
  {
   "cell_type": "code",
   "execution_count": 17,
   "id": "0ec2b6bc-e4ba-4f80-95ca-858fcceccd18",
   "metadata": {},
   "outputs": [
    {
     "data": {
      "text/plain": [
       "A    0\n",
       "B    0\n",
       "C    0\n",
       "D    0\n",
       "E    0\n",
       "F    0\n",
       "dtype: int64"
      ]
     },
     "execution_count": 17,
     "metadata": {},
     "output_type": "execute_result"
    }
   ],
   "source": [
    "# After dropping the null rows, we run a check again to confirm it worked:\n",
    "rent_file.isnull().sum()"
   ]
  },
  {
   "cell_type": "code",
   "execution_count": 18,
   "id": "1d02dfc0-9f00-4323-83d4-bd95550991af",
   "metadata": {},
   "outputs": [
    {
     "name": "stdout",
     "output_type": "stream",
     "text": [
      "We have a total of 568830 values in this dataset.\n"
     ]
    }
   ],
   "source": [
    "# Checking the new dataset shape after removing null rows:\n",
    "rent_file_shape = rent_file.shape\n",
    "result3 = rent_file_shape[0] * rent_file_shape[1]\n",
    "print(f'We have a total of {result3} values in this dataset.')"
   ]
  },
  {
   "cell_type": "code",
   "execution_count": 19,
   "id": "9604f610-8dfc-4323-aa36-2b233322a5b4",
   "metadata": {},
   "outputs": [
    {
     "name": "stdout",
     "output_type": "stream",
     "text": [
      "<class 'pandas.core.frame.DataFrame'>\n",
      "Int64Index: 94805 entries, 0 to 261874\n",
      "Data columns (total 6 columns):\n",
      " #   Column  Non-Null Count  Dtype \n",
      "---  ------  --------------  ----- \n",
      " 0   A       94805 non-null  object\n",
      " 1   B       94805 non-null  object\n",
      " 2   C       94805 non-null  object\n",
      " 3   D       94805 non-null  object\n",
      " 4   E       94805 non-null  object\n",
      " 5   F       94805 non-null  object\n",
      "dtypes: object(6)\n",
      "memory usage: 5.1+ MB\n"
     ]
    }
   ],
   "source": [
    "# Now we want to know if our dataset is pulling the right variables datatypes:\n",
    "rent_file.info()"
   ]
  },
  {
   "cell_type": "code",
   "execution_count": 20,
   "id": "87514cef-8a05-4872-944e-e617d4cce4bb",
   "metadata": {},
   "outputs": [
    {
     "name": "stdout",
     "output_type": "stream",
     "text": [
      "['Year' '2008' '2009' '2010' '2011' '2012' '2013' '2014' '2015' '2016'\n",
      " '2017' '2018' '2019' '2020' '2021']\n"
     ]
    }
   ],
   "source": [
    "# Column A and column F are bringing the wrong datatype, we will run into column A to check why:\n",
    "print(rent_file['A'].unique())"
   ]
  },
  {
   "cell_type": "code",
   "execution_count": 21,
   "id": "dd876c9e-5a76-4b55-b7fd-a95d7c48aeac",
   "metadata": {},
   "outputs": [
    {
     "name": "stdout",
     "output_type": "stream",
     "text": [
      "[2008 2009 2010 2011 2012 2013 2014 2015 2016 2017 2018 2019 2020 2021]\n"
     ]
    }
   ],
   "source": [
    "# As we can see, the first line is bringing the header, we need to remove it, we will convert 'A' column to numeric values\n",
    "rent_file['A'] = pd.to_numeric(rent_file['A'], errors='coerce')\n",
    "\n",
    "# Then drop the rows with NaN values in 'A' column\n",
    "rent_file.dropna(subset=['A'], inplace=True)\n",
    "\n",
    "# And convert the datatypes of columns with the wrong values:\n",
    "rent_file['F'] = rent_file['F'].astype(float)\n",
    "rent_file['A'] = rent_file['A'].astype(int)\n",
    "\n",
    "print(rent_file['A'].unique())"
   ]
  },
  {
   "cell_type": "code",
   "execution_count": 22,
   "id": "de103a1e-7dee-4451-995d-97f7b9561539",
   "metadata": {},
   "outputs": [
    {
     "name": "stdout",
     "output_type": "stream",
     "text": [
      "<class 'pandas.core.frame.DataFrame'>\n",
      "Int64Index: 94804 entries, 1 to 261874\n",
      "Data columns (total 6 columns):\n",
      " #   Column  Non-Null Count  Dtype  \n",
      "---  ------  --------------  -----  \n",
      " 0   A       94804 non-null  int32  \n",
      " 1   B       94804 non-null  object \n",
      " 2   C       94804 non-null  object \n",
      " 3   D       94804 non-null  object \n",
      " 4   E       94804 non-null  object \n",
      " 5   F       94804 non-null  float64\n",
      "dtypes: float64(1), int32(1), object(4)\n",
      "memory usage: 4.7+ MB\n"
     ]
    }
   ],
   "source": [
    "# Let's check if it worked:\n",
    "rent_file.info()"
   ]
  },
  {
   "cell_type": "code",
   "execution_count": 23,
   "id": "87a05632-ab70-456f-b5b6-f32dad6d3dd4",
   "metadata": {},
   "outputs": [
    {
     "name": "stdout",
     "output_type": "stream",
     "text": [
      "We have a total of 568824 values in this dataset.\n"
     ]
    }
   ],
   "source": [
    "# Checking the new dataset shape after removing null values:\n",
    "rent_file_shape = rent_file.shape\n",
    "result4 = rent_file_shape[0] * rent_file_shape[1]\n",
    "print(f'We have a total of {result4} values in this dataset.')"
   ]
  },
  {
   "cell_type": "code",
   "execution_count": 24,
   "id": "917ccfeb-ed99-4225-b489-002d3d41301e",
   "metadata": {},
   "outputs": [
    {
     "name": "stdout",
     "output_type": "stream",
     "text": [
      "Index(['A', 'B', 'C', 'D', 'E', 'F'], dtype='object')\n"
     ]
    }
   ],
   "source": [
    "# Our data is clean, but the column names seem confusing:\n",
    "print(rent_file.columns)"
   ]
  },
  {
   "cell_type": "code",
   "execution_count": 25,
   "id": "c5eb5f34-7ea2-4a90-9644-13061670355f",
   "metadata": {},
   "outputs": [
    {
     "name": "stdout",
     "output_type": "stream",
     "text": [
      "Index(['Year', 'Number of Bedrooms', 'Property Type', 'Location', 'Coin Unit',\n",
      "       'Cost'],\n",
      "      dtype='object')\n"
     ]
    }
   ],
   "source": [
    "# Since the column names are not userfriendly, we will rename it:\n",
    "new_names = {'A': 'Year','B': 'Number of Bedrooms','C': 'Property Type','D': 'Location','E': 'Coin Unit','F': 'Cost'}\n",
    "rent_file = rent_file.rename(columns=new_names)\n",
    "\n",
    "# Printing the new column names to check if it is as we want:\n",
    "print(rent_file.columns)"
   ]
  },
  {
   "cell_type": "code",
   "execution_count": 26,
   "id": "aceaf99e-4c31-4990-b278-2c64d8d7e31f",
   "metadata": {},
   "outputs": [],
   "source": [
    "# Filtering the column 'Year' so our data will match with the range of the other datasets:\n",
    "filter_rent = rent_file[rent_file['Year'] >= 2020]"
   ]
  },
  {
   "cell_type": "code",
   "execution_count": 18,
   "id": "b3830862-5167-436b-80ed-45fe05295f97",
   "metadata": {},
   "outputs": [
    {
     "name": "stdout",
     "output_type": "stream",
     "text": [
      "We have a total of 71784 values in this dataset.\n"
     ]
    }
   ],
   "source": [
    "# Checking the new dataset shape after filtering the column 'Year':\n",
    "filter_rent_shape = filter_rent.shape\n",
    "result5 = filter_rent_shape[0] * filter_rent_shape[1]\n",
    "print(f'We have a total of {result5} values in this dataset.')"
   ]
  },
  {
   "cell_type": "code",
   "execution_count": 27,
   "id": "58c602b8-ae98-4898-99fe-1136da387126",
   "metadata": {},
   "outputs": [
    {
     "name": "stdout",
     "output_type": "stream",
     "text": [
      "We have a total of 45690 values in this dataset.\n"
     ]
    }
   ],
   "source": [
    "# Now we are going to reduce a bit our dataset to compile the file\n",
    "options_to_remove = ['1 to 2 bed', '1 to 3 bed']\n",
    "new_filter_rent = filter_rent[~filter_rent['Number of Bedrooms'].apply(lambda x: any(option in x for option in options_to_remove))]\n",
    "filter_rent_shape2 = new_filter_rent.shape\n",
    "result7 = filter_rent_shape2[0] * filter_rent_shape2[1]\n",
    "print(f'We have a total of {result7} values in this dataset.')"
   ]
  },
  {
   "cell_type": "code",
   "execution_count": 28,
   "id": "6624d367-f027-421d-b0ce-f5d656352ffa",
   "metadata": {},
   "outputs": [],
   "source": [
    "# After changing the dataset, we need to save it to a new JSON file\n",
    "new_filter_rent.to_json('Datasets/new_rent.json', orient='records')"
   ]
  },
  {
   "cell_type": "markdown",
   "id": "e8c176b4-6426-460e-b348-f4f8195a55c2",
   "metadata": {
    "tags": []
   },
   "source": [
    "# Cleaning the third dataset (homelessness.json)"
   ]
  },
  {
   "cell_type": "code",
   "execution_count": 29,
   "id": "54c8fb6d-a4f3-4cbd-bc50-f1fa69bcc629",
   "metadata": {},
   "outputs": [
    {
     "name": "stdout",
     "output_type": "stream",
     "text": [
      "['Year', 'Month', 'Region', 'Total Adults', 'Male Adults', 'Female Adults', 'Adults Aged 18-24', 'Adults Aged 25-44', 'Adults Aged 45-64', 'Adults Aged 65+', 'Number of people who accessed Private Emergency Accommodation', 'Number of people who accessed Supported Temporary Accommodation', 'Number of people who accessed Temporary Emergency Accommodation', 'Number of people who accessed Other Accommodation', 'Number of Families', 'Number of Adults in Families', 'Number of Dependants in Families']\n"
     ]
    }
   ],
   "source": [
    "# Open the JSON file\n",
    "with open('Datasets/homeless.json', 'r') as f:\n",
    "    data = json.load(f)\n",
    "\n",
    "# Get the names of the columns\n",
    "column_names = list(data[0].keys())\n",
    "\n",
    "print(column_names)"
   ]
  },
  {
   "cell_type": "code",
   "execution_count": 30,
   "id": "b6f36cf4-5dbf-4a4b-8cf5-def2bfe40ed4",
   "metadata": {},
   "outputs": [
    {
     "name": "stdout",
     "output_type": "stream",
     "text": [
      "     Year    Month      Region Total Adults Male Adults Female Adults  \\\n",
      "128  2021     June    Midlands           75          48            27   \n",
      "146  2021  October    Midlands           89          54            35   \n",
      "33   2020    April  South-East          218         160            58   \n",
      "\n",
      "     Adults Aged 18-24 Adults Aged 25-44 Adults Aged 45-64  Adults Aged 65+  \\\n",
      "128                 19                41                14                1   \n",
      "146                 18                54                15                2   \n",
      "33                  33               117                60                8   \n",
      "\n",
      "    Number of people who accessed Private Emergency Accommodation  \\\n",
      "128                                                 49              \n",
      "146                                                 64              \n",
      "33                                                  57              \n",
      "\n",
      "    Number of people who accessed Supported Temporary Accommodation  \\\n",
      "128                                                 10                \n",
      "146                                                  0                \n",
      "33                                                 160                \n",
      "\n",
      "     Number of people who accessed Temporary Emergency Accommodation  \\\n",
      "128                                                 16                 \n",
      "146                                                 25                 \n",
      "33                                                   0                 \n",
      "\n",
      "     Number of people who accessed Other Accommodation  Number of Families  \\\n",
      "128                                                  0                  12   \n",
      "146                                                  0                  10   \n",
      "33                                                   1                  12   \n",
      "\n",
      "    Number of Adults in Families Number of Dependants in Families  \n",
      "128                           13                               22  \n",
      "146                           11                               17  \n",
      "33                            15                               19  \n"
     ]
    }
   ],
   "source": [
    "# Load the JSON file into a DataFrame\n",
    "homelessness_file = pd.read_json('Datasets/homeless.json')\n",
    "\n",
    "# Preview a random sample of the DataFrame\n",
    "print(homelessness_file.sample(3))"
   ]
  },
  {
   "cell_type": "code",
   "execution_count": 31,
   "id": "aa56319f-097c-4972-902e-ef7e46b48679",
   "metadata": {},
   "outputs": [
    {
     "data": {
      "text/plain": [
       "(162, 17)"
      ]
     },
     "execution_count": 31,
     "metadata": {},
     "output_type": "execute_result"
    }
   ],
   "source": [
    "# check dataset shape\n",
    "homelessness_file.shape"
   ]
  },
  {
   "cell_type": "code",
   "execution_count": 32,
   "id": "6797052c-fe5a-4bc3-be6f-23d05ea916c5",
   "metadata": {},
   "outputs": [
    {
     "data": {
      "text/plain": [
       "0"
      ]
     },
     "execution_count": 32,
     "metadata": {},
     "output_type": "execute_result"
    }
   ],
   "source": [
    "# check for duplicates\n",
    "homelessness_file.duplicated().sum()"
   ]
  },
  {
   "cell_type": "code",
   "execution_count": 33,
   "id": "917aa51f-1295-4ee2-8bdd-850351ab6fc9",
   "metadata": {},
   "outputs": [
    {
     "data": {
      "text/plain": [
       "Year                                                               0\n",
       "Month                                                              0\n",
       "Region                                                             0\n",
       "Total Adults                                                       0\n",
       "Male Adults                                                        0\n",
       "Female Adults                                                      0\n",
       "Adults Aged 18-24                                                  0\n",
       "Adults Aged 25-44                                                  0\n",
       "Adults Aged 45-64                                                  0\n",
       "Adults Aged 65+                                                    0\n",
       "Number of people who accessed Private Emergency Accommodation      0\n",
       "Number of people who accessed Supported Temporary Accommodation    0\n",
       "Number of people who accessed Temporary Emergency Accommodation    0\n",
       "Number of people who accessed Other Accommodation                  0\n",
       "Number of Families                                                 0\n",
       "Number of Adults in Families                                       0\n",
       "Number of Dependants in Families                                   0\n",
       "dtype: int64"
      ]
     },
     "execution_count": 33,
     "metadata": {},
     "output_type": "execute_result"
    }
   ],
   "source": [
    "# check for missing values\n",
    "homelessness_file.isnull().sum()"
   ]
  },
  {
   "cell_type": "code",
   "execution_count": 34,
   "id": "263a020e-2415-424e-9761-3622131ea350",
   "metadata": {},
   "outputs": [
    {
     "name": "stdout",
     "output_type": "stream",
     "text": [
      "<class 'pandas.core.frame.DataFrame'>\n",
      "RangeIndex: 162 entries, 0 to 161\n",
      "Data columns (total 17 columns):\n",
      " #   Column                                                           Non-Null Count  Dtype \n",
      "---  ------                                                           --------------  ----- \n",
      " 0   Year                                                             162 non-null    int64 \n",
      " 1   Month                                                            162 non-null    object\n",
      " 2   Region                                                           162 non-null    object\n",
      " 3   Total Adults                                                     162 non-null    object\n",
      " 4   Male Adults                                                      162 non-null    object\n",
      " 5   Female Adults                                                    162 non-null    object\n",
      " 6   Adults Aged 18-24                                                162 non-null    int64 \n",
      " 7   Adults Aged 25-44                                                162 non-null    object\n",
      " 8   Adults Aged 45-64                                                162 non-null    object\n",
      " 9   Adults Aged 65+                                                  162 non-null    int64 \n",
      " 10  Number of people who accessed Private Emergency Accommodation    162 non-null    object\n",
      " 11  Number of people who accessed Supported Temporary Accommodation  162 non-null    object\n",
      " 12  Number of people who accessed Temporary Emergency Accommodation  162 non-null    int64 \n",
      " 13  Number of people who accessed Other Accommodation                162 non-null    int64 \n",
      " 14  Number of Families                                               162 non-null    int64 \n",
      " 15  Number of Adults in Families                                     162 non-null    object\n",
      " 16  Number of Dependants in Families                                 162 non-null    object\n",
      "dtypes: int64(6), object(11)\n",
      "memory usage: 21.6+ KB\n"
     ]
    }
   ],
   "source": [
    "# preview variable datatypes\n",
    "homelessness_file.info()"
   ]
  }
 ],
 "metadata": {
  "kernelspec": {
   "display_name": "Python 3 (ipykernel)",
   "language": "python",
   "name": "python3"
  },
  "language_info": {
   "codemirror_mode": {
    "name": "ipython",
    "version": 3
   },
   "file_extension": ".py",
   "mimetype": "text/x-python",
   "name": "python",
   "nbconvert_exporter": "python",
   "pygments_lexer": "ipython3",
   "version": "3.9.16"
  }
 },
 "nbformat": 4,
 "nbformat_minor": 5
}
